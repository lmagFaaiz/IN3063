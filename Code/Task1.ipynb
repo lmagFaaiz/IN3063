{
 "cells": [
  {
   "cell_type": "code",
   "execution_count": 460,
   "id": "59e232be",
   "metadata": {},
   "outputs": [],
   "source": [
    "#Import necessary libraries\n",
    "import numpy as np\n",
    "import pandas as pd\n",
    "import sys as sy\n",
    "\n",
    "from random import randint"
   ]
  },
  {
   "cell_type": "code",
   "execution_count": 461,
   "id": "aaf4c6c2",
   "metadata": {},
   "outputs": [
    {
     "name": "stdout",
     "output_type": "stream",
     "text": [
      "[[0 0 7 1]\n",
      " [8 6 7 5]\n",
      " [7 3 3 5]\n",
      " [2 1 3 0]]\n"
     ]
    }
   ],
   "source": [
    "#set dimensions, origin and end positions\n",
    "width = 4\n",
    "height = 4\n",
    "org = [0,0]\n",
    "end = [height, width]\n",
    "#create grid list\n",
    "gridList = []\n",
    "\n",
    "#fill list with random int and make it 2d\n",
    "for column in range(width):\n",
    "    gridList.append([])\n",
    "    for row in range(height):\n",
    "        gridList[column].append(randint(0,9))\n",
    "\n",
    "# Convert 2d list to numpy array\n",
    "gridNpA = np.array(gridList)\n",
    "print(gridNpA)"
   ]
  },
  {
   "cell_type": "code",
   "execution_count": 462,
   "id": "d132b42e",
   "metadata": {},
   "outputs": [
    {
     "name": "stdout",
     "output_type": "stream",
     "text": [
      "18\n"
     ]
    }
   ],
   "source": [
    "#Basic Algorithm class\n",
    "#aim of game is to get to bottom right corner with better than random movement\n",
    "#first move right all the way. then move down all the way. this cuts out random backward moves\n",
    "class BasicAlg():\n",
    "#Initialise constructor\n",
    "    def __init__(self, graph):\n",
    "        self.graph = graph\n",
    "    \n",
    "#initialise the variables\n",
    "    def alg(self):\n",
    "        totTime = 0\n",
    "        org = [0,0]\n",
    "        curPos = org\n",
    "        x = curPos[1]\n",
    "        y = curPos[0]\n",
    "                \n",
    "#First if not at edge of grid, move right while adding the time to the total\n",
    "        while(y != (width-1)):\n",
    "            y += 1\n",
    "#Time taken per step added to total\n",
    "            totTime += self.graph[x,y];\n",
    "        \n",
    "#then, if not at edge of grid, move down while adding the time to the total\n",
    "        while(x != (height-1)):\n",
    "            x += 1\n",
    "#Time taken per step added to total\n",
    "            totTime += self.graph[x,y];\n",
    "  \n",
    "        return totTime\n",
    "\n",
    "#run the basic algorithm on the grid\n",
    "basic = BasicAlg(gridNpA)\n",
    "print(basic.alg())"
   ]
  },
  {
   "cell_type": "code",
   "execution_count": 463,
   "id": "c1fa28e4",
   "metadata": {},
   "outputs": [],
   "source": [
    "#convert grid to node\n",
    "class convertGrid:\n",
    "#initialise constructor    \n",
    "    def __init__(self, gridNpA, origin, end):\n",
    "        self.gridNpA = gridNpA\n",
    "        self.org = origin\n",
    "        self.end = end\n",
    "#get name of node    \n",
    "    def get_name(self, location):\n",
    "        node_name = (location[0] * 100) + location[1]\n",
    "        return str(node_name)\n",
    "#get adjacent nodes    \n",
    "    def get_adjacent(self, location):\n",
    "        adjacent = []\n",
    "        if (location[0] + 1) < (height):\n",
    "            adjacent.append([location[0] + 1, location[1]])\n",
    "                              \n",
    "        if (location[0] - 1) >= 0:\n",
    "            adjacent.append([location[0]-1, location[1]])\n",
    "            \n",
    "        if (location[1] + 1) < (width):\n",
    "            adjacent.append([location[0], location[1] + 1])\n",
    "            \n",
    "        if (location[1] - 1) >= 0:\n",
    "            adjacent.append([location[0], location[1] - 1])\n",
    "        \n",
    "        return adjacent\n",
    "    \n",
    "#get edges between nodes or spaces in the grid    \n",
    "    def get_edges(self, location):\n",
    "        adjacent = self.get_adjacent(location)\n",
    "        edges = []        \n",
    "        for i in adjacent:\n",
    "            edges.append(self.gridNpA[i[0], i[1]])\n",
    "            \n",
    "        return edges      \n",
    "\n",
    "#create nodes using their names and adjacent edges       \n",
    "    def create_node(self, location):        \n",
    "        adjacent = self.get_adjacent(location)\n",
    "        edges = self.get_edges(location)\n",
    "        adjacent_names = []\n",
    "        node_name = self.get_name(location)\n",
    "#possible error below with nodename sorted              \n",
    "        for i in adjacent:\n",
    "            adjacent_names.append(self.get_name(i))\n",
    "            \n",
    "        adjacent_edges = dict(zip(adjacent_names, edges))        \n",
    "        return node_name, adjacent_edges\n",
    "\n",
    "#convert grid to nodes form    \n",
    "    def grid_toNode(self):\n",
    "        nodes = dict()\n",
    "        for i in range(self.end[0]):\n",
    "            for j in range(self.end[1]):\n",
    "                node = self.create_node([i,j])\n",
    "                nodes[node[0]] = node[1]\n",
    "        \n",
    "        return nodes"
   ]
  },
  {
   "cell_type": "code",
   "execution_count": 464,
   "id": "c2f425e1",
   "metadata": {},
   "outputs": [],
   "source": [
    "#Dijkstra algorithm for shortest path function\n",
    "#Aim of game is to get to bottom right corner with shortest path using Dykstras Algorithm\n",
    "def dijkstraAlg(graph,current,last,V = [],D = dict(),P = dict()):\n",
    "#visited nodes list, dictionary of distances, dictionary of paths\n",
    "#if not yet visited, set distance to zero\n",
    "    if not V: D[current]=0\n",
    "#if we've reached the end node, return the path\n",
    "    if current==last:\n",
    "        path=[]\n",
    "        while last != None:\n",
    "            path.append(last)\n",
    "            last=P.get(last,None)\n",
    "        return D[current], path[::-1]\n",
    "#proces adjacent nodes and keep track of visited node and paths\n",
    "    for adjacent in graph[current]:\n",
    "        if adjacent not in V:\n",
    "            adjacentDist = D.get(adjacent,sy.maxsize)\n",
    "            tempDist = D[current] + graph[current][adjacent]\n",
    "            if tempDist < adjacentDist:\n",
    "                D[adjacent] = tempDist\n",
    "                P[adjacent] = current\n",
    "#add current node as visited \n",
    "    V.append(current)\n",
    "# find the closest unvisited node to current node \n",
    "    unvisitedNodes = dict((u, D.get(u,sy.maxsize)) for u in graph if u not in V)\n",
    "    closestNode = min(unvisitedNodes, key=unvisitedNodes.get)\n",
    "#recurse to make closest node current node \n",
    "    return dijkstraAlg(graph,closestNode,last,V,D,P)"
   ]
  },
  {
   "cell_type": "code",
   "execution_count": 465,
   "id": "d3372c06",
   "metadata": {},
   "outputs": [
    {
     "name": "stdout",
     "output_type": "stream",
     "text": [
      "(13, ['0', '1', '101', '201', '301', '302', '303'])\n"
     ]
    }
   ],
   "source": [
    "#current and end string\n",
    "C = (org[0] * 100) + org[1]\n",
    "E = ((end[0] * 100) + end[1]) - 101\n",
    "\n",
    "#save converted grid to nodes from in graph\n",
    "CG = convertGrid(gridNpA, org, end)\n",
    "graph = CG.grid_toNode()\n",
    "\n",
    "#find dijsktras shortest path output    \n",
    "print (dijkstraAlg(graph,str(C),str(E)))"
   ]
  },
  {
   "cell_type": "code",
   "execution_count": null,
   "id": "013d2d76",
   "metadata": {},
   "outputs": [],
   "source": []
  }
 ],
 "metadata": {
  "kernelspec": {
   "display_name": "Python 3",
   "language": "python",
   "name": "python3"
  },
  "language_info": {
   "codemirror_mode": {
    "name": "ipython",
    "version": 3
   },
   "file_extension": ".py",
   "mimetype": "text/x-python",
   "name": "python",
   "nbconvert_exporter": "python",
   "pygments_lexer": "ipython3",
   "version": "3.8.8"
  }
 },
 "nbformat": 4,
 "nbformat_minor": 5
}
